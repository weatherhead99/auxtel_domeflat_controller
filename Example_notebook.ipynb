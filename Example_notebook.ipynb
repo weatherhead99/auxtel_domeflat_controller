{
 "cells": [
  {
   "cell_type": "markdown",
   "id": "6d7dc03b",
   "metadata": {},
   "source": [
    "# Example of using dome flat controller from a notebook"
   ]
  },
  {
   "cell_type": "code",
   "execution_count": 1,
   "id": "24fa4dc5",
   "metadata": {},
   "outputs": [],
   "source": [
    "#first you need to create a DomeFlatController object\n",
    "from auxtel_domeflat_controller import DomeFlatController\n",
    "\n",
    "\n",
    "dfc = DomeFlatController()\n"
   ]
  },
  {
   "cell_type": "code",
   "execution_count": 2,
   "id": "f489707f",
   "metadata": {},
   "outputs": [
    {
     "name": "stdout",
     "output_type": "stream",
     "text": [
      "False\n"
     ]
    }
   ],
   "source": [
    "#To read back the current state:\n",
    "\n",
    "print(dfc.domeFlatState)\n",
    "#this returns a bool - False for flat is off, True for flat is on"
   ]
  },
  {
   "cell_type": "code",
   "execution_count": null,
   "id": "ca4c23df",
   "metadata": {},
   "outputs": [],
   "source": [
    "#to set the flat field illuminator state ON\n",
    "dfc.domeFlatState = True\n",
    "\n",
    "#similar for OFF"
   ]
  }
 ],
 "metadata": {
  "kernelspec": {
   "display_name": "Python 3 (ipykernel)",
   "language": "python",
   "name": "python3"
  },
  "language_info": {
   "codemirror_mode": {
    "name": "ipython",
    "version": 3
   },
   "file_extension": ".py",
   "mimetype": "text/x-python",
   "name": "python",
   "nbconvert_exporter": "python",
   "pygments_lexer": "ipython3",
   "version": "3.10.5"
  }
 },
 "nbformat": 4,
 "nbformat_minor": 5
}
